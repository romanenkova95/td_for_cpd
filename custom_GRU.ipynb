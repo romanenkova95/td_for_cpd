{
 "cells": [
  {
   "cell_type": "code",
   "execution_count": 4,
   "id": "3286a2e9",
   "metadata": {},
   "outputs": [],
   "source": [
    "import torch\n",
    "import torch.nn as nn"
   ]
  },
  {
   "cell_type": "code",
   "execution_count": 200,
   "id": "94205d4f",
   "metadata": {},
   "outputs": [],
   "source": [
    "class custom_GRU_cell(torch.nn.Module):\n",
    "\n",
    "    def __init__(self, input_dim, hidden_dim):\n",
    "        super().__init__()\n",
    "        \n",
    "        self.input_dim = input_dim\n",
    "        self.hidden_dim = hidden_dim\n",
    "        \n",
    "        # update gate\n",
    "        self.linear_w_z = nn.Linear(self.input_dim, self.hidden_dim)\n",
    "        self.linear_u_z = nn.Linear(self.hidden_dim, self.hidden_dim)\n",
    "        self.activation_z = nn.Sigmoid()\n",
    "\n",
    "        # reset gate\n",
    "        self.linear_w_r = nn.Linear(self.input_dim, self.hidden_dim)\n",
    "        self.linear_u_r = nn.Linear(self.hidden_dim, self.hidden_dim)\n",
    "        self.activation_r = nn.Sigmoid()\n",
    "        \n",
    "        # output\n",
    "        self.linear_w_h = nn.Linear(self.input_dim, self.hidden_dim)\n",
    "        self.linear_u_h = nn.Linear(self.hidden_dim, self.hidden_dim)\n",
    "        self.activation_h = nn.Tanh()\n",
    "        \n",
    "        \n",
    "    def forward(self, x_t, h_prev):\n",
    "        try:\n",
    "            device = x_t.device\n",
    "        except:\n",
    "            device = 'cpu'\n",
    "                \n",
    "        output_z = self.activation_z(self.linear_w_z(x_t) + self.linear_u_z(h_prev))\n",
    "        output_r = self.activation_r(self.linear_w_r(x_t) + self.linear_u_r(h_prev))\n",
    "        hidden_hat = self.activation_h(self.linear_w_h(x_t) + torch.mul(output_r, self.linear_u_h(h_prev)))\n",
    "        ones = torch.ones_like(output_z).to(device)\n",
    "        hidden = torch.mul(output_z, h_prev) + torch.mul((ones - output_z), hidden_hat)\n",
    "        \n",
    "        return hidden\n",
    "    \n",
    "    \n",
    "class custom_GRU(torch.nn.Module):\n",
    "\n",
    "    def __init__(self, input_dim, hidden_dim):\n",
    "        super().__init__()\n",
    "        \n",
    "        self.input_dim = input_dim\n",
    "        self.hidden_dim = hidden_dim\n",
    "        \n",
    "        self.cell = custom_GRU_cell(input_dim, hidden_dim)\n",
    "    \n",
    "    def forward(self, inputs):\n",
    "        try:\n",
    "            device = inputs.device\n",
    "        except:\n",
    "            device = 'cpu'\n",
    "\n",
    "        outputs = []\n",
    "        out_t = torch.zeros(inputs.shape[0], 1, self.hidden_dim)\n",
    "        \n",
    "        for t, x_t in enumerate(inputs.chunk(inputs.shape[1], dim=1)):\n",
    "            out_t = self.cell(x_t, out_t)\n",
    "            outputs.append(out_t.squeeze(1).detach().cpu())\n",
    "        outputs = torch.stack(outputs, 1)\n",
    "        return outputs, out_t.squeeze(1)"
   ]
  },
  {
   "cell_type": "code",
   "execution_count": 195,
   "id": "ae22ec30",
   "metadata": {},
   "outputs": [],
   "source": [
    "x = torch.rand(3, 5, 25)"
   ]
  },
  {
   "cell_type": "code",
   "execution_count": 196,
   "id": "a5c1e0a1",
   "metadata": {},
   "outputs": [],
   "source": [
    "model = custom_GRU(25, 8)"
   ]
  },
  {
   "cell_type": "markdown",
   "id": "7b448263",
   "metadata": {},
   "source": [
    "### Test custom_GPU_TCL"
   ]
  },
  {
   "cell_type": "code",
   "execution_count": 5,
   "id": "caf7f539",
   "metadata": {},
   "outputs": [
    {
     "name": "stdout",
     "output_type": "stream",
     "text": [
      "The autoreload extension is already loaded. To reload it, use:\n",
      "  %reload_ext autoreload\n"
     ]
    }
   ],
   "source": [
    "from utils import datasets, kl_cpd, models_v2 as models, nets_tl, nets_original\n",
    "%load_ext autoreload\n",
    "%autoreload 2\n",
    "\n",
    "import torch \n",
    "\n",
    "import warnings\n",
    "warnings.filterwarnings(\"ignore\")\n",
    "\n",
    "import pytorch_lightning as pl\n",
    "from pytorch_lightning.loggers import TensorBoardLogger\n",
    "from pytorch_lightning.callbacks.early_stopping import EarlyStopping\n",
    "\n",
    "import os\n",
    "# os.environ[\"CUDA_DEVICE_ORDER\"]=\"PCI_BUS_ID\"   # see issue #152\n",
    "os.environ[\"CUDA_VISIBLE_DEVICES\"]=\"1\""
   ]
  },
  {
   "cell_type": "code",
   "execution_count": 6,
   "id": "20cd807b",
   "metadata": {},
   "outputs": [
    {
     "name": "stdout",
     "output_type": "stream",
     "text": [
      "Equal sampling is impossible, do random sampling.\n"
     ]
    }
   ],
   "source": [
    "args = {}\n",
    "block_type=\"tcl3d\"\n",
    "\n",
    "experiments_name = 'explosion'\n",
    "train_dataset, test_dataset = datasets.CPDDatasets(experiments_name=experiments_name).get_dataset_()"
   ]
  },
  {
   "cell_type": "code",
   "execution_count": 7,
   "id": "717abb56",
   "metadata": {},
   "outputs": [],
   "source": [
    "if block_type == \"tcl3d\":\n",
    "    # For TCL3D\n",
    "    args['data_dim'] = (192, 8, 8)\n",
    "    args['RNN_hid_dim'] = (32, 8, 8) # 3072\n",
    "    args['emb_dim'] = (64, 8, 8) # 3072\n",
    "    args['bias_rank'] = 4\n",
    "\n",
    "elif block_type == \"tcl\":\n",
    "    # For TCL\n",
    "    args['data_dim'] = (192, 8, 8)\n",
    "    args['RNN_hid_dim'] = (32, 8, 8) # 3072\n",
    "    args['emb_dim'] = (64, 8, 8) # 3072\n",
    "\n",
    "elif block_type == \"trl\":\n",
    "    # For TRL\n",
    "    args['data_dim'] = (192, 8, 8)\n",
    "    args['RNN_hid_dim'] = (8, 8, 8, 8) # 3072\n",
    "    args['emb_dim'] = (8, 8, 8, 8) # 3072\n",
    "    args['ranks_input'] = (16, 4, 4, 4, 4, 4, 4) # 3072\n",
    "    args['ranks_output'] = (4, 4, 4, 4, 16, 4, 4) # 3072\n",
    "    args['ranks_gru'] = (4, 4, 4, 4, 4, 4, 4, 4) # 3072\n",
    "\n",
    "\n",
    "input = torch.randn(5, 4, 192, 8, 8)\n",
    "model = nets_tl.NetD_TL(args, block_type=block_type, bias=\"all\")"
   ]
  },
  {
   "cell_type": "code",
   "execution_count": 8,
   "id": "29fd059a",
   "metadata": {},
   "outputs": [
    {
     "data": {
      "text/plain": [
       "torch.Size([5, 4, 192, 8, 8])"
      ]
     },
     "execution_count": 8,
     "metadata": {},
     "output_type": "execute_result"
    }
   ],
   "source": [
    "model(input)[1].shape"
   ]
  },
  {
   "cell_type": "code",
   "execution_count": 9,
   "id": "a0bae3a6",
   "metadata": {},
   "outputs": [
    {
     "data": {
      "text/plain": [
       "287232"
      ]
     },
     "execution_count": 9,
     "metadata": {},
     "output_type": "execute_result"
    }
   ],
   "source": [
    "total = 0\n",
    "for param in model.parameters():\n",
    "    total += param.numel()\n",
    "\n",
    "total"
   ]
  },
  {
   "cell_type": "code",
   "execution_count": 10,
   "id": "717abb56",
   "metadata": {},
   "outputs": [],
   "source": [
    "if block_type == \"tcl3d\":\n",
    "    # For TCL3D\n",
    "    args['data_dim'] = (192, 8, 8)\n",
    "    args['RNN_hid_dim'] = (32, 8, 8) # 3072\n",
    "    args['emb_dim'] = (64, 8, 8) # 3072\n",
    "    args['bias_rank'] = 4\n",
    "\n",
    "elif block_type == \"tcl\":\n",
    "    # For TCL\n",
    "    args['data_dim'] = (192, 8, 8)\n",
    "    args['RNN_hid_dim'] = (32, 8, 8) # 3072\n",
    "    args['emb_dim'] = (64, 8, 8) # 3072\n",
    "\n",
    "elif block_type == \"trl\":\n",
    "    # For TRL\n",
    "    args['data_dim'] = (192, 8, 8)\n",
    "    args['RNN_hid_dim'] = (8, 8, 8, 8) # 3072\n",
    "    args['emb_dim'] = (8, 8, 8, 8) # 3072\n",
    "    args['ranks_input'] = (16, 4, 4, 4, 4, 4, 4) # 3072\n",
    "    args['ranks_output'] = (4, 4, 4, 4, 16, 4, 4) # 3072\n",
    "    args['ranks_gru'] = (4, 4, 4, 4, 4, 4, 4, 4) # 3072\n",
    "    \n",
    "input = torch.randn(5, 4, 192, 8, 8)\n",
    "model = nets_tl.NetG_TL(args, block_type=block_type, bias=\"all\")"
   ]
  },
  {
   "cell_type": "code",
   "execution_count": 11,
   "id": "29fd059a",
   "metadata": {},
   "outputs": [
    {
     "data": {
      "text/plain": [
       "torch.Size([5, 4, 192, 8, 8])"
      ]
     },
     "execution_count": 11,
     "metadata": {},
     "output_type": "execute_result"
    }
   ],
   "source": [
    "model(input, input, 0).shape"
   ]
  },
  {
   "cell_type": "code",
   "execution_count": 12,
   "id": "a0bae3a6",
   "metadata": {},
   "outputs": [
    {
     "data": {
      "text/plain": [
       "242240"
      ]
     },
     "execution_count": 12,
     "metadata": {},
     "output_type": "execute_result"
    }
   ],
   "source": [
    "total = 0\n",
    "for param in model.parameters():\n",
    "    total += param.numel()\n",
    "\n",
    "total"
   ]
  },
  {
   "cell_type": "code",
   "execution_count": 13,
   "id": "59230d30",
   "metadata": {},
   "outputs": [],
   "source": [
    "block_type = \"tcl3d\"\n",
    "\n",
    "args['wnd_dim'] = 4\n",
    "args['batch_size'] = 8\n",
    "args['lr'] = 1e-4\n",
    "args['weight_decay'] = 0.\n",
    "args['grad_clip'] = 10\n",
    "args['CRITIC_ITERS'] = 5\n",
    "args['weight_clip'] = .1\n",
    "args['lambda_ae'] = 0.1 #0.001\n",
    "args['lambda_real'] = 10 #0.1\n",
    "args['num_layers'] = 1\n",
    "\n",
    "if block_type == \"tcl\":\n",
    "    # For TCL3D\n",
    "    args['data_dim'] = (192, 8, 8)\n",
    "    args['RNN_hid_dim'] = (32, 8, 8) # 3072\n",
    "    args['emb_dim'] = (64, 8, 8) # 3072\n",
    "    args['bias_rank'] = 4\n",
    "\n",
    "elif block_type == \"tcl\":\n",
    "    # For TCL\n",
    "    args['data_dim'] = (192, 8, 8)\n",
    "    args['RNN_hid_dim'] = (32, 8, 8) # 3072\n",
    "    args['emb_dim'] = (64, 8, 8) # 3072\n",
    "\n",
    "elif block_type == \"trl\":\n",
    "    # For TRL\n",
    "    args['data_dim'] = (192, 8, 8)\n",
    "    args['RNN_hid_dim'] = (8, 8, 8, 8) # 3072\n",
    "    args['emb_dim'] = (8, 8, 8, 8) # 3072\n",
    "    args['ranks_input'] = (16, 4, 4, 4, 4, 4, 4) # 3072\n",
    "    args['ranks_output'] = (4, 4, 4, 4, 16, 4, 4) # 3072\n",
    "    args['ranks_gru'] = (4, 4, 4, 4, 4, 4, 4, 4) # 3072\n",
    "\n",
    "elif block_type == \"linear\":\n",
    "    # For Linear\n",
    "    args['data_dim'] = 12288\n",
    "    args['RNN_hid_dim'] = 256 # 3072\n",
    "    args['emb_dim'] = 1024 # 3072\n",
    "\n",
    "args['window_1'] = 4\n",
    "args['window_2'] = 4\n",
    "\n",
    "args['sqdist'] = 50"
   ]
  },
  {
   "cell_type": "code",
   "execution_count": 14,
   "id": "4f8e2a6a",
   "metadata": {},
   "outputs": [
    {
     "name": "stderr",
     "output_type": "stream",
     "text": [
      "Using cache found in /home/eromanenkova/.cache/torch/hub/facebookresearch_pytorchvideo_main\n"
     ]
    }
   ],
   "source": [
    "seed = 0\n",
    "models.fix_seeds(seed)\n",
    "experiments_name = ('explosion')\n",
    "    \n",
    "if block_type == \"linear\":\n",
    "    netG = nets_original.NetD(args)\n",
    "    netD = nets_original.NetD(args)\n",
    "else:\n",
    "    netG = nets_tl.NetG_TL(args, block_type=block_type, bias=\"all\")\n",
    "    netD = nets_tl.NetD_TL(args, block_type=block_type, bias=\"all\")\n",
    "\n",
    "\n",
    "kl_cpd_model = models.KLCPDVideo(netG, netD, args, train_dataset=train_dataset, test_dataset=test_dataset)"
   ]
  },
  {
   "cell_type": "code",
   "execution_count": 15,
   "id": "2e992bfd",
   "metadata": {},
   "outputs": [
    {
     "data": {
      "text/plain": [
       "tensor([0.0144, 0.0142, 0.0143, 0.0176, 0.0154], grad_fn=<SumBackward1>)"
      ]
     },
     "execution_count": 15,
     "metadata": {},
     "output_type": "execute_result"
    }
   ],
   "source": [
    "inputs = (torch.randn((5, 3, 16, 256, 256)),)\n",
    "kl_cpd_model.forward(inputs,)"
   ]
  },
  {
   "cell_type": "code",
   "execution_count": 16,
   "id": "cd095c21",
   "metadata": {},
   "outputs": [
    {
     "data": {
      "text/plain": [
       "2535602"
      ]
     },
     "execution_count": 16,
     "metadata": {},
     "output_type": "execute_result"
    }
   ],
   "source": [
    "total = 0\n",
    "for param in kl_cpd_model.parameters():\n",
    "    total += param.numel()\n",
    "\n",
    "total"
   ]
  },
  {
   "cell_type": "code",
   "execution_count": null,
   "id": "c07e5034",
   "metadata": {},
   "outputs": [],
   "source": []
  }
 ],
 "metadata": {
  "interpreter": {
   "hash": "bfb2b8cf1499e33540bacdfc4dd76b4bb9572c0e18e6d28f6edc08a8ab91e54c"
  },
  "kernelspec": {
   "display_name": "Python 3.7.13 ('kl-cpd')",
   "language": "python",
   "name": "python3"
  },
  "language_info": {
   "codemirror_mode": {
    "name": "ipython",
    "version": 3
   },
   "file_extension": ".py",
   "mimetype": "text/x-python",
   "name": "python",
   "nbconvert_exporter": "python",
   "pygments_lexer": "ipython3",
   "version": "3.7.13"
  }
 },
 "nbformat": 4,
 "nbformat_minor": 5
}
