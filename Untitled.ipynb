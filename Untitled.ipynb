{
 "cells": [
  {
   "cell_type": "code",
   "execution_count": 197,
   "id": "7ae803ec",
   "metadata": {},
   "outputs": [
    {
     "name": "stdout",
     "output_type": "stream",
     "text": [
      "The autoreload extension is already loaded. To reload it, use:\n",
      "  %reload_ext autoreload\n"
     ]
    }
   ],
   "source": [
    "import utils.nets_tl as nets\n",
    "from utils import datasets, kl_cpd, models_v2 as models\n",
    "\n",
    "\n",
    "from utils.nets_tl import TCL, custom_GRU_TL\n",
    "\n",
    "%load_ext autoreload\n",
    "%autoreload 2\n"
   ]
  },
  {
   "cell_type": "code",
   "execution_count": 198,
   "id": "810309bc",
   "metadata": {},
   "outputs": [],
   "source": [
    "args = {}\n",
    "args[\"block_type\"] = \"tcl\"\n",
    "args['data_dim'] = (192, 8, 8)\n",
    "args['RNN_hid_dim'] = (64, 8, 8) # 3072\n",
    "args['emb_dim'] = (64, 8, 8) # 3072\n",
    "args['bias_rank'] = 1\n"
   ]
  },
  {
   "cell_type": "code",
   "execution_count": 199,
   "id": "5a84bddc",
   "metadata": {},
   "outputs": [],
   "source": [
    "bce_model = BCE_GRU_TL(block_type=\"tcl\", args=args)"
   ]
  },
  {
   "cell_type": "code",
   "execution_count": 200,
   "id": "cffe15c6",
   "metadata": {},
   "outputs": [
    {
     "name": "stdout",
     "output_type": "stream",
     "text": [
      "Equal sampling is impossible, do random sampling.\n"
     ]
    },
    {
     "name": "stderr",
     "output_type": "stream",
     "text": [
      "Using cache found in /home/eromanenkova/.cache/torch/hub/facebookresearch_pytorchvideo_main\n"
     ]
    }
   ],
   "source": [
    "kl_cpd_model = models.CPD_model(experiments_name='explosion', model=bce_model, batch_size=2)"
   ]
  },
  {
   "cell_type": "code",
   "execution_count": 201,
   "id": "f0da2378",
   "metadata": {},
   "outputs": [
    {
     "name": "stderr",
     "output_type": "stream",
     "text": [
      "GPU available: True, used: True\n",
      "TPU available: False, using: 0 TPU cores\n",
      "IPU available: False, using: 0 IPUs\n",
      "HPU available: False, using: 0 HPUs\n",
      "LOCAL_RANK: 0 - CUDA_VISIBLE_DEVICES: [0,1]\n",
      "\n",
      "  | Name      | Type       | Params\n",
      "-----------------------------------------\n",
      "0 | model     | BCE_GRU_TL | 177 K \n",
      "1 | loss      | BCELoss    | 0     \n",
      "2 | extractor | Sequential | 2.0 M \n",
      "-----------------------------------------\n",
      "177 K     Trainable params\n",
      "2.0 M     Non-trainable params\n",
      "2.2 M     Total params\n",
      "8.733     Total estimated model params size (MB)\n"
     ]
    },
    {
     "data": {
      "application/vnd.jupyter.widget-view+json": {
       "model_id": "",
       "version_major": 2,
       "version_minor": 0
      },
      "text/plain": [
       "Sanity Checking: 0it [00:00, ?it/s]"
      ]
     },
     "metadata": {},
     "output_type": "display_data"
    },
    {
     "name": "stderr",
     "output_type": "stream",
     "text": [
      "/home/eromanenkova/anaconda3/envs/kl-cpd/lib/python3.7/site-packages/torchvision/io/video.py:159: UserWarning: The pts_unit 'pts' gives wrong results and will be removed in a follow-up version. Please use pts_unit 'sec'.\n",
      "  \"The pts_unit 'pts' gives wrong results and will be removed in a \"\n",
      "/home/eromanenkova/anaconda3/envs/kl-cpd/lib/python3.7/site-packages/torchvision/io/video.py:159: UserWarning: The pts_unit 'pts' gives wrong results and will be removed in a follow-up version. Please use pts_unit 'sec'.\n",
      "  \"The pts_unit 'pts' gives wrong results and will be removed in a \"\n",
      "/home/eromanenkova/anaconda3/envs/kl-cpd/lib/python3.7/site-packages/pytorch_lightning/trainer/connectors/data_connector.py:245: PossibleUserWarning: The dataloader, train_dataloader, does not have many workers which may be a bottleneck. Consider increasing the value of the `num_workers` argument` (try 6 which is the number of cpus on this machine) in the `DataLoader` init to improve performance.\n",
      "  category=PossibleUserWarning,\n"
     ]
    },
    {
     "data": {
      "application/vnd.jupyter.widget-view+json": {
       "model_id": "13095dc161ff4156bb5e9c322e60e590",
       "version_major": 2,
       "version_minor": 0
      },
      "text/plain": [
       "Training: 0it [00:00, ?it/s]"
      ]
     },
     "metadata": {},
     "output_type": "display_data"
    },
    {
     "name": "stderr",
     "output_type": "stream",
     "text": [
      "/home/eromanenkova/anaconda3/envs/kl-cpd/lib/python3.7/site-packages/torchvision/io/video.py:159: UserWarning: The pts_unit 'pts' gives wrong results and will be removed in a follow-up version. Please use pts_unit 'sec'.\n",
      "  \"The pts_unit 'pts' gives wrong results and will be removed in a \"\n",
      "/home/eromanenkova/anaconda3/envs/kl-cpd/lib/python3.7/site-packages/torchvision/io/video.py:159: UserWarning: The pts_unit 'pts' gives wrong results and will be removed in a follow-up version. Please use pts_unit 'sec'.\n",
      "  \"The pts_unit 'pts' gives wrong results and will be removed in a \"\n",
      "/home/eromanenkova/anaconda3/envs/kl-cpd/lib/python3.7/site-packages/pytorch_lightning/trainer/trainer.py:724: UserWarning: Detected KeyboardInterrupt, attempting graceful shutdown...\n",
      "  rank_zero_warn(\"Detected KeyboardInterrupt, attempting graceful shutdown...\")\n"
     ]
    }
   ],
   "source": [
    "# %%debug\n",
    "\n",
    "import pytorch_lightning as pl\n",
    "from pytorch_lightning.loggers import TensorBoardLogger\n",
    "from pytorch_lightning.callbacks.early_stopping import EarlyStopping\n",
    "\n",
    "\n",
    "logger = TensorBoardLogger(save_dir='logs/explosion', name='kl_cpd')\n",
    "early_stop_callback = EarlyStopping(monitor=\"val_mmd2_real_D\", stopping_threshold=1e-5, \n",
    "                                    verbose=True, mode=\"min\", patience=5)\n",
    "\n",
    "\n",
    "\n",
    "for param in kl_cpd_model.extractor.parameters():\n",
    "    param.requires_grad = False\n",
    "\n",
    "trainer = pl.Trainer(\n",
    "    max_epochs=1, # 100\n",
    "    gpus='1',\n",
    "    # devices='1',\n",
    "    benchmark=True,\n",
    "    check_val_every_n_epoch=5,\n",
    "    gradient_clip_val=0.1,\n",
    "    logger=logger,\n",
    "    callbacks=early_stop_callback\n",
    ")\n",
    "\n",
    "trainer.fit(kl_cpd_model)"
   ]
  },
  {
   "cell_type": "code",
   "execution_count": null,
   "id": "2ee7591e",
   "metadata": {},
   "outputs": [],
   "source": []
  },
  {
   "cell_type": "code",
   "execution_count": null,
   "id": "e01a41cb",
   "metadata": {},
   "outputs": [],
   "source": []
  }
 ],
 "metadata": {
  "kernelspec": {
   "display_name": "Python 3",
   "language": "python",
   "name": "python3"
  },
  "language_info": {
   "codemirror_mode": {
    "name": "ipython",
    "version": 3
   },
   "file_extension": ".py",
   "mimetype": "text/x-python",
   "name": "python",
   "nbconvert_exporter": "python",
   "pygments_lexer": "ipython3",
   "version": "3.7.13"
  }
 },
 "nbformat": 4,
 "nbformat_minor": 5
}
