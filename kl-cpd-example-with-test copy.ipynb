{
 "cells": [
  {
   "cell_type": "code",
   "execution_count": 5,
   "metadata": {
    "scrolled": true
   },
   "outputs": [
    {
     "name": "stdout",
     "output_type": "stream",
     "text": [
      "The autoreload extension is already loaded. To reload it, use:\n",
      "  %reload_ext autoreload\n"
     ]
    }
   ],
   "source": [
    "from utils import datasets, kl_cpd, models, metrics\n",
    "%load_ext autoreload\n",
    "%autoreload 2\n",
    "\n",
    "import warnings\n",
    "warnings.filterwarnings(\"ignore\")\n",
    "\n",
    "import pytorch_lightning as pl\n",
    "from pytorch_lightning.loggers import TensorBoardLogger\n",
    "from pytorch_lightning.callbacks.early_stopping import EarlyStopping\n",
    "\n",
    "import numpy as np\n",
    "import matplotlib.pyplot as plt\n",
    "%matplotlib inline\n",
    "\n",
    "import torch\n",
    "import torch.nn as nn"
   ]
  },
  {
   "cell_type": "code",
   "execution_count": 6,
   "metadata": {},
   "outputs": [
    {
     "name": "stdout",
     "output_type": "stream",
     "text": [
      "Equal sampling is impossible, do random sampling.\n"
     ]
    }
   ],
   "source": [
    "experiments_name = 'explosion'\n",
    "train_dataset, test_dataset = datasets.CPDDatasets(experiments_name=experiments_name).get_dataset_()"
   ]
  },
  {
   "cell_type": "code",
   "execution_count": 7,
   "metadata": {},
   "outputs": [],
   "source": [
    "args = {}\n",
    "args['wnd_dim'] = 4\n",
    "args['RNN_hid_dim'] = 16\n",
    "args['batch_size'] = 8\n",
    "args['lr'] = 1e-4\n",
    "args['weight_decay'] = 0.\n",
    "args['grad_clip'] = 10\n",
    "args['CRITIC_ITERS'] = 5\n",
    "args['weight_clip'] = .1\n",
    "args['lambda_ae'] = 0.1 #0.001\n",
    "args['lambda_real'] = 10 #0.1\n",
    "args['num_layers'] = 1\n",
    "args['data_dim'] = 12288\n",
    "args['emb_dim'] = 100\n",
    "\n",
    "args['window_1'] = 4\n",
    "args['window_2'] = 4\n",
    "\n",
    "args['sqdist'] = 50"
   ]
  },
  {
   "cell_type": "code",
   "execution_count": 8,
   "metadata": {},
   "outputs": [
    {
     "name": "stderr",
     "output_type": "stream",
     "text": [
      "Using cache found in /home/eromanenkova/.cache/torch/hub/facebookresearch_pytorchvideo_main\n",
      "GPU available: True, used: True\n",
      "TPU available: False, using: 0 TPU cores\n",
      "IPU available: False, using: 0 IPUs\n",
      "HPU available: False, using: 0 HPUs\n",
      "LOCAL_RANK: 0 - CUDA_VISIBLE_DEVICES: [0,1]\n",
      "\n",
      "  | Name      | Type       | Params\n",
      "-----------------------------------------\n",
      "0 | netG      | NetG       | 1.4 M \n",
      "1 | netD      | NetD       | 2.5 M \n",
      "2 | extractor | Sequential | 2.0 M \n",
      "-----------------------------------------\n",
      "4.0 M     Trainable params\n",
      "2.0 M     Non-trainable params\n",
      "6.0 M     Total params\n",
      "23.865    Total estimated model params size (MB)\n"
     ]
    },
    {
     "data": {
      "application/vnd.jupyter.widget-view+json": {
       "model_id": "",
       "version_major": 2,
       "version_minor": 0
      },
      "text/plain": [
       "Sanity Checking: 0it [00:00, ?it/s]"
      ]
     },
     "metadata": {},
     "output_type": "display_data"
    },
    {
     "data": {
      "application/vnd.jupyter.widget-view+json": {
       "model_id": "b4d3661a1f7f425697928dfc1e9a13f6",
       "version_major": 2,
       "version_minor": 0
      },
      "text/plain": [
       "Training: 0it [00:00, ?it/s]"
      ]
     },
     "metadata": {},
     "output_type": "display_data"
    },
    {
     "name": "stderr",
     "output_type": "stream",
     "text": [
      "Exception ignored in: <function _MultiProcessingDataLoaderIter.__del__ at 0x7fc167c66700>\n",
      "Traceback (most recent call last):\n",
      "  File \"/home/eromanenkova/anaconda3/lib/python3.9/site-packages/torch/utils/data/dataloader.py\", line 1324, in __del__\n",
      "    self._shutdown_workers()\n",
      "  File \"/home/eromanenkova/anaconda3/lib/python3.9/site-packages/torch/utils/data/dataloader.py\", line 1316, in _shutdown_workers\n",
      "    if w.is_alive():\n",
      "  File \"/home/eromanenkova/anaconda3/lib/python3.9/multiprocessing/process.py\", line 160, in is_alive\n",
      "    assert self._parent_pid == os.getpid(), 'can only test a child process'\n",
      "AssertionError: can only test a child process\n",
      "Exception ignored in: Exception ignored in: <function _MultiProcessingDataLoaderIter.__del__ at 0x7fc167c66700><function _MultiProcessingDataLoaderIter.__del__ at 0x7fc167c66700>\n",
      "\n",
      "Traceback (most recent call last):\n",
      "Traceback (most recent call last):\n",
      "  File \"/home/eromanenkova/anaconda3/lib/python3.9/site-packages/torch/utils/data/dataloader.py\", line 1324, in __del__\n",
      "  File \"/home/eromanenkova/anaconda3/lib/python3.9/site-packages/torch/utils/data/dataloader.py\", line 1324, in __del__\n",
      "        self._shutdown_workers()self._shutdown_workers()\n",
      "\n",
      "  File \"/home/eromanenkova/anaconda3/lib/python3.9/site-packages/torch/utils/data/dataloader.py\", line 1316, in _shutdown_workers\n",
      "  File \"/home/eromanenkova/anaconda3/lib/python3.9/site-packages/torch/utils/data/dataloader.py\", line 1316, in _shutdown_workers\n",
      "    if w.is_alive():\n",
      "  File \"/home/eromanenkova/anaconda3/lib/python3.9/multiprocessing/process.py\", line 160, in is_alive\n",
      "    assert self._parent_pid == os.getpid(), 'can only test a child process'\n",
      "    if w.is_alive():\n",
      "  File \"/home/eromanenkova/anaconda3/lib/python3.9/multiprocessing/process.py\", line 160, in is_alive\n",
      "    assert self._parent_pid == os.getpid(), 'can only test a child process'\n",
      "AssertionError: can only test a child process\n",
      "AssertionError: can only test a child process\n",
      "Exception ignored in: <function _MultiProcessingDataLoaderIter.__del__ at 0x7fc167c66700>\n",
      "Traceback (most recent call last):\n",
      "  File \"/home/eromanenkova/anaconda3/lib/python3.9/site-packages/torch/utils/data/dataloader.py\", line 1324, in __del__\n",
      "    self._shutdown_workers()\n",
      "  File \"/home/eromanenkova/anaconda3/lib/python3.9/site-packages/torch/utils/data/dataloader.py\", line 1316, in _shutdown_workers\n",
      "    if w.is_alive():\n",
      "  File \"/home/eromanenkova/anaconda3/lib/python3.9/multiprocessing/process.py\", line 160, in is_alive\n",
      "    assert self._parent_pid == os.getpid(), 'can only test a child process'\n",
      "AssertionError: can only test a child process\n"
     ]
    },
    {
     "name": "stdout",
     "output_type": "stream",
     "text": [
      "torch.Size([8, 192, 4, 8, 8])\n",
      "torch.Size([8, 192, 4, 8, 8])\n",
      "torch.Size([8, 192, 4, 8, 8])\n",
      "torch.Size([8, 192, 4, 8, 8])\n",
      "torch.Size([8, 192, 4, 8, 8])\n",
      "torch.Size([8, 192, 4, 8, 8])\n",
      "torch.Size([8, 192, 4, 8, 8])\n",
      "torch.Size([8, 192, 4, 8, 8])\n",
      "torch.Size([8, 192, 4, 8, 8])\n",
      "torch.Size([8, 192, 4, 8, 8])\n",
      "torch.Size([8, 192, 4, 8, 8])\n",
      "torch.Size([8, 192, 4, 8, 8])\n",
      "torch.Size([8, 192, 4, 8, 8])\n",
      "torch.Size([8, 192, 4, 8, 8])\n",
      "torch.Size([8, 192, 4, 8, 8])\n",
      "torch.Size([8, 192, 4, 8, 8])\n",
      "torch.Size([8, 192, 4, 8, 8])\n",
      "torch.Size([8, 192, 4, 8, 8])\n",
      "torch.Size([8, 192, 4, 8, 8])\n",
      "torch.Size([8, 192, 4, 8, 8])\n",
      "torch.Size([8, 192, 4, 8, 8])\n",
      "torch.Size([8, 192, 4, 8, 8])\n"
     ]
    },
    {
     "name": "stderr",
     "output_type": "stream",
     "text": [
      "\n",
      "  0%|                                                                                             | 0/7 [00:00<?, ?it/s]\u001b[A\n",
      "\n",
      "KeyboardInterrupt\n",
      "\n"
     ]
    }
   ],
   "source": [
    "for name in ['x3d_m']:\n",
    "    extractor = torch.hub.load('facebookresearch/pytorchvideo:main', name, pretrained=True)\n",
    "    extractor = nn.Sequential(*list(extractor.blocks[:5]))\n",
    "    \n",
    "    seed = 0\n",
    "    models.fix_seeds(seed)\n",
    "    experiments_name = ('explosion')\n",
    "\n",
    "    netG = models.NetG(args)\n",
    "    netD = models.NetD(args)\n",
    "\n",
    "    kl_cpd_model = models.KLCPDVideo(netG, netD, args, train_dataset=train_dataset, test_dataset=test_dataset, \n",
    "                                     extractor=extractor)\n",
    "    \n",
    "    logger = TensorBoardLogger(save_dir='logs/explosion', name='kl_cpd')\n",
    "    \n",
    "    early_stop_callback = EarlyStopping(monitor=\"val_mmd2_real_D\", stopping_threshold=1e-5, \n",
    "                                        verbose=True, mode=\"min\", patience=5)\n",
    "\n",
    "    for param in kl_cpd_model.extractor.parameters():\n",
    "        param.requires_grad = False\n",
    "\n",
    "    trainer = pl.Trainer(\n",
    "        max_epochs=1,\n",
    "        gpus='1',\n",
    "        benchmark=True,\n",
    "        check_val_every_n_epoch=1,\n",
    "        gradient_clip_val=args['grad_clip'],\n",
    "        logger=logger,\n",
    "        callbacks=early_stop_callback\n",
    "    )\n",
    "\n",
    "    trainer.fit(kl_cpd_model)\n",
    "    torch.save(kl_cpd_model.state_dict(), 'model_' + name + '.pth')    \n",
    "    \n",
    "    threshold_number = 5\n",
    "    threshold_list = np.linspace(-5, 5, threshold_number)\n",
    "    threshold_list = 1 / (1 + np.exp(-threshold_list))\n",
    "    threshold_list = [-0.001] + list(threshold_list) + [1.001]\n",
    "    \n",
    "    \n",
    "    _, delay_list, fp_delay_list = metrics.evaluation_pipeline(kl_cpd_model, \n",
    "                                                           kl_cpd_model.val_dataloader(),  \n",
    "                                                           threshold_list, \n",
    "                                                           device='cuda', \n",
    "                                                           model_type='klcpd',\n",
    "                                                           verbose=False)    \n",
    "\n",
    "\n",
    "    path_to_saves = ''\n",
    "    metrics.write_metrics_to_file(path_to_saves + 'result_metrics.txt', _, name)    \n",
    "    \n",
    "    plt.figure(figsize=(12, 12))\n",
    "    plt.plot(fp_delay_list.values(), delay_list.values(), '-o', markersize=8, label='TSCP')\n",
    "    plt.xlabel('Mean Time to False Alarm', fontsize=28)\n",
    "    plt.ylabel('Mean Detection Delay', fontsize=28)\n",
    "    plt.xticks(fontsize=24)\n",
    "    plt.yticks(fontsize=24)\n",
    "    plt.legend(loc='upper left', fontsize=26);        \n",
    "    plt.savefig('saves/figure_' + str(name) + '.png', dpi=300)"
   ]
  },
  {
   "cell_type": "code",
   "execution_count": 5,
   "metadata": {},
   "outputs": [],
   "source": [
    "batch = next(iter(kl_cpd_model.val_dataloader()))"
   ]
  },
  {
   "cell_type": "code",
   "execution_count": 40,
   "metadata": {},
   "outputs": [],
   "source": [
    "def get_klcpd_output(kl_cpd_model, batch, window):\n",
    "    batch = batch.to(kl_cpd_model.device)\n",
    "    if len(batch.shape) <= 4:\n",
    "        seq_len = batch.shape[1]\n",
    "    else:\n",
    "        seq_len = batch.shape[2]\n",
    "\n",
    "    batch_history_slices, batch_future_slices = kl_cpd._history_future_separation_test(batch, window)\n",
    "    sigma_var = kl_cpd_model.sigma_var.to(kl_cpd_model.device)\n",
    "\n",
    "    pred_out = []\n",
    "    for i in range(len(batch_history_slices)):\n",
    "        zeros = torch.zeros(1, seq_len)\n",
    "\n",
    "        curr_history = kl_cpd_model.extractor(batch_history_slices[i]).transpose(1, 2).flatten(2)\n",
    "        curr_history, _ = kl_cpd_model.netD(curr_history.to(torch.float32))\n",
    "\n",
    "        curr_future = kl_cpd_model.extractor(batch_future_slices[i]).transpose(1, 2).flatten(2)\n",
    "        curr_future, _ = kl_cpd_model.netD(curr_future.to(torch.float32))\n",
    "\n",
    "        curr_history, curr_future = [Xi.reshape(*Xi.shape[:2], -1) for Xi in [curr_history, curr_future]]\n",
    "        mmd_scores = kl_cpd.batch_mmd2_loss(curr_history, curr_future, sigma_var)\n",
    "        zeros[:, 2 * window - 1:] = mmd_scores\n",
    "        pred_out.append(zeros)\n",
    "    pred_out = torch.cat(pred_out).to(kl_cpd_model.device)\n",
    "    po = pred_out\n",
    "    print(torch.tanh(po/torch.norm(po, p=3, dim=1, keepdim=True)))\n",
    "    print(torch.softmax(po/torch.max(po, dim=1, keepdim=True), dim=1))\n",
    "    # breakpoint()\n",
    "    #pred_out = pred_out / pred_out.max(1).values.expand(pred_out.shape[1], pred_out.shape[0]).transpose(0, 1)\n",
    "    #TODO check\n",
    "    #pred_out = torch.tanh(pred_out * 10 ** 7)\n",
    "    return pred_out"
   ]
  },
  {
   "cell_type": "code",
   "execution_count": 41,
   "metadata": {},
   "outputs": [
    {
     "name": "stdout",
     "output_type": "stream",
     "text": [
      "tensor([[0.0000, 0.0000, 0.0000, 0.0000, 0.0000, 0.0000, 0.0000, 0.1168, 0.0134,\n",
      "         0.0469, 0.7613, 0.0122, 0.0354, 0.0066, 0.0180, 0.0437],\n",
      "        [0.0000, 0.0000, 0.0000, 0.0000, 0.0000, 0.0000, 0.0000, 0.0510, 0.0031,\n",
      "         0.0136, 0.0145, 0.7527, 0.0958, 0.0050, 0.2109, 0.3539],\n",
      "        [0.0000, 0.0000, 0.0000, 0.0000, 0.0000, 0.0000, 0.0000, 0.1025, 0.4029,\n",
      "         0.4261, 0.0166, 0.1214, 0.0133, 0.1087, 0.3764, 0.7227],\n",
      "        [0.0000, 0.0000, 0.0000, 0.0000, 0.0000, 0.0000, 0.0000, 0.0836, 0.3602,\n",
      "         0.2545, 0.0018, 0.0174, 0.6602, 0.6360, 0.0472, 0.1659],\n",
      "        [0.0000, 0.0000, 0.0000, 0.0000, 0.0000, 0.0000, 0.0000, 0.2511, 0.1890,\n",
      "         0.0746, 0.6395, 0.2818, 0.0209, 0.0107, 0.6199, 0.4734],\n",
      "        [0.0000, 0.0000, 0.0000, 0.0000, 0.0000, 0.0000, 0.0000, 0.5545, 0.0219,\n",
      "         0.2002, 0.0184, 0.5053, 0.5801, 0.3525, 0.3110, 0.5271],\n",
      "        [0.0000, 0.0000, 0.0000, 0.0000, 0.0000, 0.0000, 0.0000, 0.0146, 0.0016,\n",
      "         0.0862, 0.7614, 0.0599, 0.0173, 0.0238, 0.0905, 0.0133],\n",
      "        [0.0000, 0.0000, 0.0000, 0.0000, 0.0000, 0.0000, 0.0000, 0.0248, 0.1102,\n",
      "         0.1601, 0.7506, 0.3858, 0.1212, 0.0092, 0.0532, 0.0071]],\n",
      "       device='cuda:0', grad_fn=<TanhBackward>)\n"
     ]
    },
    {
     "ename": "TypeError",
     "evalue": "unsupported operand type(s) for /: 'Tensor' and 'torch.return_types.max'",
     "output_type": "error",
     "traceback": [
      "\u001b[0;31m---------------------------------------------------------------------------\u001b[0m",
      "\u001b[0;31mTypeError\u001b[0m                                 Traceback (most recent call last)",
      "\u001b[0;32m<ipython-input-41-edfdb3f83e81>\u001b[0m in \u001b[0;36m<module>\u001b[0;34m\u001b[0m\n\u001b[1;32m      1\u001b[0m \u001b[0;31m# %%debug\u001b[0m\u001b[0;34m\u001b[0m\u001b[0;34m\u001b[0m\u001b[0;34m\u001b[0m\u001b[0m\n\u001b[0;32m----> 2\u001b[0;31m \u001b[0mpred_out\u001b[0m \u001b[0;34m=\u001b[0m \u001b[0mget_klcpd_output\u001b[0m\u001b[0;34m(\u001b[0m\u001b[0mkl_cpd_model\u001b[0m\u001b[0;34m,\u001b[0m \u001b[0mbatch\u001b[0m\u001b[0;34m[\u001b[0m\u001b[0;36m0\u001b[0m\u001b[0;34m]\u001b[0m\u001b[0;34m,\u001b[0m \u001b[0;36m4\u001b[0m\u001b[0;34m)\u001b[0m\u001b[0;34m\u001b[0m\u001b[0;34m\u001b[0m\u001b[0m\n\u001b[0m",
      "\u001b[0;32m<ipython-input-40-2cca0ac1f30c>\u001b[0m in \u001b[0;36mget_klcpd_output\u001b[0;34m(kl_cpd_model, batch, window)\u001b[0m\n\u001b[1;32m     26\u001b[0m     \u001b[0mpo\u001b[0m \u001b[0;34m=\u001b[0m \u001b[0mpred_out\u001b[0m\u001b[0;34m\u001b[0m\u001b[0;34m\u001b[0m\u001b[0m\n\u001b[1;32m     27\u001b[0m     \u001b[0mprint\u001b[0m\u001b[0;34m(\u001b[0m\u001b[0mtorch\u001b[0m\u001b[0;34m.\u001b[0m\u001b[0mtanh\u001b[0m\u001b[0;34m(\u001b[0m\u001b[0mpo\u001b[0m\u001b[0;34m/\u001b[0m\u001b[0mtorch\u001b[0m\u001b[0;34m.\u001b[0m\u001b[0mnorm\u001b[0m\u001b[0;34m(\u001b[0m\u001b[0mpo\u001b[0m\u001b[0;34m,\u001b[0m \u001b[0mp\u001b[0m\u001b[0;34m=\u001b[0m\u001b[0;36m3\u001b[0m\u001b[0;34m,\u001b[0m \u001b[0mdim\u001b[0m\u001b[0;34m=\u001b[0m\u001b[0;36m1\u001b[0m\u001b[0;34m,\u001b[0m \u001b[0mkeepdim\u001b[0m\u001b[0;34m=\u001b[0m\u001b[0;32mTrue\u001b[0m\u001b[0;34m)\u001b[0m\u001b[0;34m)\u001b[0m\u001b[0;34m)\u001b[0m\u001b[0;34m\u001b[0m\u001b[0;34m\u001b[0m\u001b[0m\n\u001b[0;32m---> 28\u001b[0;31m     \u001b[0mprint\u001b[0m\u001b[0;34m(\u001b[0m\u001b[0mtorch\u001b[0m\u001b[0;34m.\u001b[0m\u001b[0msoftmax\u001b[0m\u001b[0;34m(\u001b[0m\u001b[0mpo\u001b[0m\u001b[0;34m/\u001b[0m\u001b[0mtorch\u001b[0m\u001b[0;34m.\u001b[0m\u001b[0mmax\u001b[0m\u001b[0;34m(\u001b[0m\u001b[0mpo\u001b[0m\u001b[0;34m,\u001b[0m \u001b[0mdim\u001b[0m\u001b[0;34m=\u001b[0m\u001b[0;36m1\u001b[0m\u001b[0;34m,\u001b[0m \u001b[0mkeepdim\u001b[0m\u001b[0;34m=\u001b[0m\u001b[0;32mTrue\u001b[0m\u001b[0;34m)\u001b[0m\u001b[0;34m,\u001b[0m \u001b[0mdim\u001b[0m\u001b[0;34m=\u001b[0m\u001b[0;36m1\u001b[0m\u001b[0;34m)\u001b[0m\u001b[0;34m)\u001b[0m\u001b[0;34m\u001b[0m\u001b[0;34m\u001b[0m\u001b[0m\n\u001b[0m\u001b[1;32m     29\u001b[0m     \u001b[0;31m# breakpoint()\u001b[0m\u001b[0;34m\u001b[0m\u001b[0;34m\u001b[0m\u001b[0;34m\u001b[0m\u001b[0m\n\u001b[1;32m     30\u001b[0m     \u001b[0;31m#pred_out = pred_out / pred_out.max(1).values.expand(pred_out.shape[1], pred_out.shape[0]).transpose(0, 1)\u001b[0m\u001b[0;34m\u001b[0m\u001b[0;34m\u001b[0m\u001b[0;34m\u001b[0m\u001b[0m\n",
      "\u001b[0;31mTypeError\u001b[0m: unsupported operand type(s) for /: 'Tensor' and 'torch.return_types.max'"
     ]
    }
   ],
   "source": [
    "# %%debug\n",
    "pred_out = get_klcpd_output(kl_cpd_model, batch[0], 4)"
   ]
  },
  {
   "cell_type": "code",
   "execution_count": 12,
   "metadata": {},
   "outputs": [],
   "source": [
    "labels = batch[1]"
   ]
  },
  {
   "cell_type": "code",
   "execution_count": 37,
   "metadata": {},
   "outputs": [
    {
     "data": {
      "text/plain": [
       "[<matplotlib.lines.Line2D at 0x7f57fccee670>]"
      ]
     },
     "execution_count": 37,
     "metadata": {},
     "output_type": "execute_result"
    },
    {
     "data": {
      "image/png": "[encoded data removed]",
      "text/plain": [
       "<Figure size 432x288 with 1 Axes>"
      ]
     },
     "metadata": {
      "needs_background": "light"
     },
     "output_type": "display_data"
    }
   ],
   "source": [
    "i = 2\n",
    "#plt.plot(pred_out[i].detach().cpu().numpy())\n",
    "#plt.plot(torch.tanh(pred_out[i] * 10 ** 5).detach().cpu().numpy())\n",
    "plt.plot(torch.log(pred_out[i]).detach().cpu().numpy())\n",
    "plt.plot((1 / (1 - 1 / pred_out[i])).detach().cpu().numpy())\n",
    "\n",
    "plt.plot(labels[i].detach().cpu().numpy())"
   ]
  },
  {
   "cell_type": "code",
   "execution_count": 76,
   "metadata": {},
   "outputs": [
    {
     "data": {
      "text/plain": [
       "tensor([4.7610e-06, 1.8587e-06, 3.3578e-06, 3.4813e-06, 1.6716e-06, 1.8619e-06,\n",
       "        3.7566e-06, 1.7263e-06], grad_fn=<MaxBackward0>)"
      ]
     },
     "execution_count": 76,
     "metadata": {},
     "output_type": "execute_result"
    }
   ],
   "source": [
    "pred_out.max(1).values"
   ]
  },
  {
   "cell_type": "code",
   "execution_count": 90,
   "metadata": {},
   "outputs": [
    {
     "data": {
      "text/plain": [
       "tensor([[4.7610e-06, 4.7610e-06, 4.7610e-06, 4.7610e-06, 4.7610e-06, 4.7610e-06,\n",
       "         4.7610e-06, 4.7610e-06, 4.7610e-06, 4.7610e-06, 4.7610e-06, 4.7610e-06,\n",
       "         4.7610e-06, 4.7610e-06, 4.7610e-06, 4.7610e-06],\n",
       "        [1.8587e-06, 1.8587e-06, 1.8587e-06, 1.8587e-06, 1.8587e-06, 1.8587e-06,\n",
       "         1.8587e-06, 1.8587e-06, 1.8587e-06, 1.8587e-06, 1.8587e-06, 1.8587e-06,\n",
       "         1.8587e-06, 1.8587e-06, 1.8587e-06, 1.8587e-06],\n",
       "        [3.3578e-06, 3.3578e-06, 3.3578e-06, 3.3578e-06, 3.3578e-06, 3.3578e-06,\n",
       "         3.3578e-06, 3.3578e-06, 3.3578e-06, 3.3578e-06, 3.3578e-06, 3.3578e-06,\n",
       "         3.3578e-06, 3.3578e-06, 3.3578e-06, 3.3578e-06],\n",
       "        [3.4813e-06, 3.4813e-06, 3.4813e-06, 3.4813e-06, 3.4813e-06, 3.4813e-06,\n",
       "         3.4813e-06, 3.4813e-06, 3.4813e-06, 3.4813e-06, 3.4813e-06, 3.4813e-06,\n",
       "         3.4813e-06, 3.4813e-06, 3.4813e-06, 3.4813e-06],\n",
       "        [1.6716e-06, 1.6716e-06, 1.6716e-06, 1.6716e-06, 1.6716e-06, 1.6716e-06,\n",
       "         1.6716e-06, 1.6716e-06, 1.6716e-06, 1.6716e-06, 1.6716e-06, 1.6716e-06,\n",
       "         1.6716e-06, 1.6716e-06, 1.6716e-06, 1.6716e-06],\n",
       "        [1.8619e-06, 1.8619e-06, 1.8619e-06, 1.8619e-06, 1.8619e-06, 1.8619e-06,\n",
       "         1.8619e-06, 1.8619e-06, 1.8619e-06, 1.8619e-06, 1.8619e-06, 1.8619e-06,\n",
       "         1.8619e-06, 1.8619e-06, 1.8619e-06, 1.8619e-06],\n",
       "        [3.7566e-06, 3.7566e-06, 3.7566e-06, 3.7566e-06, 3.7566e-06, 3.7566e-06,\n",
       "         3.7566e-06, 3.7566e-06, 3.7566e-06, 3.7566e-06, 3.7566e-06, 3.7566e-06,\n",
       "         3.7566e-06, 3.7566e-06, 3.7566e-06, 3.7566e-06],\n",
       "        [1.7263e-06, 1.7263e-06, 1.7263e-06, 1.7263e-06, 1.7263e-06, 1.7263e-06,\n",
       "         1.7263e-06, 1.7263e-06, 1.7263e-06, 1.7263e-06, 1.7263e-06, 1.7263e-06,\n",
       "         1.7263e-06, 1.7263e-06, 1.7263e-06, 1.7263e-06]],\n",
       "       grad_fn=<TransposeBackward0>)"
      ]
     },
     "execution_count": 90,
     "metadata": {},
     "output_type": "execute_result"
    }
   ],
   "source": []
  },
  {
   "cell_type": "code",
   "execution_count": null,
   "metadata": {},
   "outputs": [],
   "source": []
  }
 ],
 "metadata": {
  "interpreter": {
   "hash": "bfb2b8cf1499e33540bacdfc4dd76b4bb9572c0e18e6d28f6edc08a8ab91e54c"
  },
  "kernelspec": {
   "display_name": "Python 3 (ipykernel)",
   "language": "python",
   "name": "python3"
  },
  "language_info": {
   "codemirror_mode": {
    "name": "ipython",
    "version": 3
   },
   "file_extension": ".py",
   "mimetype": "text/x-python",
   "name": "python",
   "nbconvert_exporter": "python",
   "pygments_lexer": "ipython3",
   "version": "3.9.12"
  }
 },
 "nbformat": 4,
 "nbformat_minor": 1
}
